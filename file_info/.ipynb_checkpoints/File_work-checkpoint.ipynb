{
 "cells": [
  {
   "cell_type": "code",
   "execution_count": 83,
   "metadata": {},
   "outputs": [],
   "source": [
    "import pandas as pd\n",
    "from glob import glob\n",
    "import numpy as np"
   ]
  },
  {
   "cell_type": "code",
   "execution_count": 103,
   "metadata": {},
   "outputs": [
    {
     "data": {
      "text/html": [
       "<div>\n",
       "<style scoped>\n",
       "    .dataframe tbody tr th:only-of-type {\n",
       "        vertical-align: middle;\n",
       "    }\n",
       "\n",
       "    .dataframe tbody tr th {\n",
       "        vertical-align: top;\n",
       "    }\n",
       "\n",
       "    .dataframe thead th {\n",
       "        text-align: right;\n",
       "    }\n",
       "</style>\n",
       "<table border=\"1\" class=\"dataframe\">\n",
       "  <thead>\n",
       "    <tr style=\"text-align: right;\">\n",
       "      <th></th>\n",
       "      <th>Filename</th>\n",
       "      <th>size</th>\n",
       "    </tr>\n",
       "  </thead>\n",
       "  <tbody>\n",
       "    <tr>\n",
       "      <th>0</th>\n",
       "      <td>dBFA2-02M_NaCl_2N-R1-Subpool_S33_R1_001.fastq.gz</td>\n",
       "      <td>37M</td>\n",
       "    </tr>\n",
       "    <tr>\n",
       "      <th>1</th>\n",
       "      <td>dBFA2-21C_2N-R1-Subpool_S32_R1_001.fastq.gz</td>\n",
       "      <td>28M</td>\n",
       "    </tr>\n",
       "    <tr>\n",
       "      <th>2</th>\n",
       "      <td>dBFA2-FLC4_2N-R1-Subpool_S34_R1_001.fastq.gz</td>\n",
       "      <td>12M</td>\n",
       "    </tr>\n",
       "    <tr>\n",
       "      <th>3</th>\n",
       "      <td>dBFA2_h1_Ancestor_YPD_2N_R1_1_R1.fastq.gz</td>\n",
       "      <td>23M</td>\n",
       "    </tr>\n",
       "    <tr>\n",
       "      <th>4</th>\n",
       "      <td>dBFA2_h1_Ancestor_YPD_2N_R1_1_R2.fastq.gz</td>\n",
       "      <td>23M</td>\n",
       "    </tr>\n",
       "  </tbody>\n",
       "</table>\n",
       "</div>"
      ],
      "text/plain": [
       "                                           Filename size\n",
       "0  dBFA2-02M_NaCl_2N-R1-Subpool_S33_R1_001.fastq.gz  37M\n",
       "1       dBFA2-21C_2N-R1-Subpool_S32_R1_001.fastq.gz  28M\n",
       "2      dBFA2-FLC4_2N-R1-Subpool_S34_R1_001.fastq.gz  12M\n",
       "3         dBFA2_h1_Ancestor_YPD_2N_R1_1_R1.fastq.gz  23M\n",
       "4         dBFA2_h1_Ancestor_YPD_2N_R1_1_R2.fastq.gz  23M"
      ]
     },
     "execution_count": 103,
     "metadata": {},
     "output_type": "execute_result"
    }
   ],
   "source": [
    "d = pd.read_csv('all_read_files.txt', delim_whitespace=True, header=None)\n",
    "d = d[[8, 4]].rename(columns={8: 'Filename', 4: 'size'})\n",
    "d.to_csv('all_read_files.csv', index=False)\n",
    "r1_files = [i for i in d['Filename'] if 'R1.' in i or 'R1_001.' in i]\n",
    "d.head()"
   ]
  },
  {
   "cell_type": "code",
   "execution_count": 72,
   "metadata": {},
   "outputs": [
    {
     "name": "stderr",
     "output_type": "stream",
     "text": [
      "/n/home13/mjohnson/anaconda3/envs/milo_py37/lib/python3.7/site-packages/ipykernel_launcher.py:10: FutureWarning: Sorting because non-concatenation axis is not aligned. A future version\n",
      "of pandas will change to not sort by default.\n",
      "\n",
      "To accept the future behavior, pass 'sort=False'.\n",
      "\n",
      "To retain the current behavior and silence the warning, pass 'sort=True'.\n",
      "\n",
      "  # Remove the CWD from sys.path while we load stuff.\n"
     ]
    },
    {
     "data": {
      "text/html": [
       "<div>\n",
       "<style scoped>\n",
       "    .dataframe tbody tr th:only-of-type {\n",
       "        vertical-align: middle;\n",
       "    }\n",
       "\n",
       "    .dataframe tbody tr th {\n",
       "        vertical-align: top;\n",
       "    }\n",
       "\n",
       "    .dataframe thead th {\n",
       "        text-align: right;\n",
       "    }\n",
       "</style>\n",
       "<table border=\"1\" class=\"dataframe\">\n",
       "  <thead>\n",
       "    <tr style=\"text-align: right;\">\n",
       "      <th></th>\n",
       "      <th>Library</th>\n",
       "      <th>R1_files</th>\n",
       "    </tr>\n",
       "  </thead>\n",
       "  <tbody>\n",
       "    <tr>\n",
       "      <th>0</th>\n",
       "      <td>02M_NaCl_2N-R1-Time0</td>\n",
       "      <td>Stanford_high_LT_02M_NaCl_2N-R1-Time0_R1.fastq.gz</td>\n",
       "    </tr>\n",
       "    <tr>\n",
       "      <th>1</th>\n",
       "      <td>02M_NaCl_2N-R1-Time104</td>\n",
       "      <td>Stanford_high_LT_02M_NaCl_2N-R1-Time104_R1.fas...</td>\n",
       "    </tr>\n",
       "    <tr>\n",
       "      <th>2</th>\n",
       "      <td>02M_NaCl_2N-R1-Time112</td>\n",
       "      <td>Stanford_high_LT_02M_NaCl_2N-R1-Time112_R1.fas...</td>\n",
       "    </tr>\n",
       "    <tr>\n",
       "      <th>3</th>\n",
       "      <td>02M_NaCl_2N-R1-Time128</td>\n",
       "      <td>Stanford_high_LT_02M_NaCl_2N-R1-Time128_R1.fas...</td>\n",
       "    </tr>\n",
       "    <tr>\n",
       "      <th>4</th>\n",
       "      <td>02M_NaCl_2N-R1-Time144</td>\n",
       "      <td>Stanford_high_LT_02M_NaCl_2N-R1-Time144_R1.fas...</td>\n",
       "    </tr>\n",
       "  </tbody>\n",
       "</table>\n",
       "</div>"
      ],
      "text/plain": [
       "                  Library                                           R1_files\n",
       "0    02M_NaCl_2N-R1-Time0  Stanford_high_LT_02M_NaCl_2N-R1-Time0_R1.fastq.gz\n",
       "1  02M_NaCl_2N-R1-Time104  Stanford_high_LT_02M_NaCl_2N-R1-Time104_R1.fas...\n",
       "2  02M_NaCl_2N-R1-Time112  Stanford_high_LT_02M_NaCl_2N-R1-Time112_R1.fas...\n",
       "3  02M_NaCl_2N-R1-Time128  Stanford_high_LT_02M_NaCl_2N-R1-Time128_R1.fas...\n",
       "4  02M_NaCl_2N-R1-Time144  Stanford_high_LT_02M_NaCl_2N-R1-Time144_R1.fas..."
      ]
     },
     "execution_count": 72,
     "metadata": {},
     "output_type": "execute_result"
    }
   ],
   "source": [
    "flist = glob('demult_maps/*/*.csv')\n",
    "ds = {f.split('/')[-1]: pd.read_csv(f) for f in flist}\n",
    "dnames = sorted(list(ds.keys()))\n",
    "df_rec = []\n",
    "for dn in ds:\n",
    "    ds[dn]['File'] = dn\n",
    "    ds[dn]\n",
    "    df_rec.append(ds[dn])\n",
    "    \n",
    "alldf = pd.concat(df_rec)\n",
    "file_to_run = {\n",
    "    'Harvard_dip_all.csv': 'Harvard_dip_LT_',\n",
    "    'Stanford_hap_all.csv': 'Stanford_hap_LT_',\n",
    "    'Stanford_high_all.csv': 'Stanford_high_LT_',\n",
    "    'Stanford_mid_all.csv': 'Stanford_mid_LT_',\n",
    "    'Stanford_redos_all.csv': 'Stanford_redos_LT_',\n",
    "    'Stanford_restart_all.csv': 'Stanford_restart_LT_',\n",
    "    'dBFA2_Harvard_1_indices.csv': 'dBFA2_h1_',\n",
    "    'dBFA2_Stanford_1_indices.csv': 'dBFA2_s1_',\n",
    "    'dBFA2_Stanford_2_indices.csv': 'dBFA2_s2_',\n",
    "    'hBFA1_part1_indices.csv': 'hBFA1_h1_',\n",
    "    'hBFA1_part2_indices.csv': 'hBFA1_h2_',\n",
    "    'hBFA2_Harvard_1_indices.csv': 'hBFA2_h1_',\n",
    "    'hBFA2_Stanford_indices.csv': 'hBFA2_s_',\n",
    "    'hBFA2_dBFA2_Harvard_2_combined_indices.csv': 'hBFA2_dBFA2_h2_',\n",
    "    'hBFA1_subpool_demult.csv': '',\n",
    "    'hBFA2_subpool_demult.csv': '',\n",
    "    'dBFA2_subpool_demult.csv': ''\n",
    "}\n",
    "\n",
    "def get_file(row):\n",
    "    normal_file = row['Run']+row['Library']+'_R1.fastq.gz'\n",
    "    if normal_file in r1_files:\n",
    "        return normal_file\n",
    "    else:\n",
    "        found_file = [i for i in r1_files if row['Run']+row['Library'] in i]\n",
    "        #print(row['Run']+row['Library'], found_file)\n",
    "        assert len(found_file) == 1\n",
    "        return found_file[0]\n",
    "\n",
    "alldf['Run'] = alldf['File'].map(file_to_run)\n",
    "alldf['R1_files'] = alldf.apply(get_file, axis=1)\n",
    "lib_to_file = alldf[['Library', 'R1_files']].groupby('Library').agg(lambda x: ';'.join(x)).reset_index()\n",
    "lib_to_file.head()"
   ]
  },
  {
   "cell_type": "code",
   "execution_count": 73,
   "metadata": {},
   "outputs": [
    {
     "data": {
      "text/html": [
       "<div>\n",
       "<style scoped>\n",
       "    .dataframe tbody tr th:only-of-type {\n",
       "        vertical-align: middle;\n",
       "    }\n",
       "\n",
       "    .dataframe tbody tr th {\n",
       "        vertical-align: top;\n",
       "    }\n",
       "\n",
       "    .dataframe thead th {\n",
       "        text-align: right;\n",
       "    }\n",
       "</style>\n",
       "<table border=\"1\" class=\"dataframe\">\n",
       "  <thead>\n",
       "    <tr style=\"text-align: right;\">\n",
       "      <th></th>\n",
       "      <th>Library</th>\n",
       "      <th>R1_files</th>\n",
       "    </tr>\n",
       "  </thead>\n",
       "  <tbody>\n",
       "    <tr>\n",
       "      <th>127</th>\n",
       "      <td>dBFA2-YPD_2N_R1_1-SubpoolAnc</td>\n",
       "      <td>dBFA2_h1_Ancestor_YPD_2N_R1_1_R1.fastq.gz</td>\n",
       "    </tr>\n",
       "    <tr>\n",
       "      <th>128</th>\n",
       "      <td>dBFA2-YPD_2N_R1_2-SubpoolAnc</td>\n",
       "      <td>dBFA2_h1_Ancestor_YPD_2N_R1_2_R1.fastq.gz</td>\n",
       "    </tr>\n",
       "    <tr>\n",
       "      <th>270</th>\n",
       "      <td>dBFA2-02M_NaCl_2N_R2-Subpool</td>\n",
       "      <td>dBFA2_h1_Subpool_02M_NaCl_2N_R2_R1.fastq.gz</td>\n",
       "    </tr>\n",
       "  </tbody>\n",
       "</table>\n",
       "</div>"
      ],
      "text/plain": [
       "                          Library                                     R1_files\n",
       "127  dBFA2-YPD_2N_R1_1-SubpoolAnc    dBFA2_h1_Ancestor_YPD_2N_R1_1_R1.fastq.gz\n",
       "128  dBFA2-YPD_2N_R1_2-SubpoolAnc    dBFA2_h1_Ancestor_YPD_2N_R1_2_R1.fastq.gz\n",
       "270  dBFA2-02M_NaCl_2N_R2-Subpool  dBFA2_h1_Subpool_02M_NaCl_2N_R2_R1.fastq.gz"
      ]
     },
     "execution_count": 73,
     "metadata": {},
     "output_type": "execute_result"
    }
   ],
   "source": [
    "def fix_lib(lib):\n",
    "    if ('Subpool' in lib or 'Ancestor' in lib) and 'BFA' not in lib:\n",
    "        return 'dBFA2-'+lib[lib.index('_')+1:]+'-'+lib.split('_')[0].replace('Ancestor', 'SubpoolAnc')\n",
    "    else:\n",
    "        return lib\n",
    "\n",
    "lib_to_file['Library'] = lib_to_file['Library'].apply(fix_lib)\n",
    "lib_to_file[lib_to_file['Library'].apply(lambda l: 'Subpool' in l)].head(3)"
   ]
  },
  {
   "cell_type": "code",
   "execution_count": 74,
   "metadata": {},
   "outputs": [
    {
     "name": "stdout",
     "output_type": "stream",
     "text": [
      "dBFA2 194\n",
      "hBFA2 186\n",
      "hBFA1 89\n"
     ]
    }
   ],
   "source": [
    "for bfa in ['dBFA2', 'hBFA2', 'hBFA1']:\n",
    "    td = lib_to_file[lib_to_file['Library'].apply(lambda l: bfa in l)]\n",
    "    print(bfa, len(td))\n",
    "    td.to_csv('assay_files/'+bfa+'_assay.csv', index=False)"
   ]
  },
  {
   "cell_type": "code",
   "execution_count": 75,
   "metadata": {},
   "outputs": [],
   "source": [
    "lt = lib_to_file[lib_to_file['Library'].apply(lambda l: 'BFA' not in l and 'Ancestor' not in l and 'Subpool' not in l)]\n",
    "env_reps = sorted(set([i.split('-Time')[0] for i in lt['Library']]))\n",
    "for er in env_reps:\n",
    "    td = lt[lt['Library'].apply(lambda l: l.split('-Time')[0]==er)]\n",
    "    #print(er, len(td))\n",
    "    td.to_csv('assay_files/LT_'+er+'_assay.csv', index=False)"
   ]
  },
  {
   "cell_type": "code",
   "execution_count": 76,
   "metadata": {},
   "outputs": [],
   "source": [
    "file_dict = dict()\n",
    "all_assay_files = glob('assay_files/*.csv')\n",
    "for f in all_assay_files:\n",
    "    for j, row in pd.read_csv(f).iterrows():\n",
    "        for fname in row['R1_files'].split(';'):\n",
    "            assert fname not in file_dict\n",
    "            file_dict[fname] = [row['Library'], f.split('/')[-1]]"
   ]
  },
  {
   "cell_type": "code",
   "execution_count": 78,
   "metadata": {},
   "outputs": [
    {
     "data": {
      "text/plain": [
       "(793, 793, 793)"
      ]
     },
     "execution_count": 78,
     "metadata": {},
     "output_type": "execute_result"
    }
   ],
   "source": [
    "len(r1_files), len(file_dict), len(set(file_dict.keys()).intersection(set(r1_files)))"
   ]
  },
  {
   "cell_type": "code",
   "execution_count": 102,
   "metadata": {},
   "outputs": [],
   "source": [
    "mat = []\n",
    "for f in all_assay_files:\n",
    "    td = pd.read_csv(f)\n",
    "    td['Assay'] = f.split('/')[-1].split('_assay')[0]\n",
    "    mat.append(td)\n",
    "    \n",
    "def get_r2(r1):\n",
    "    r2s = []\n",
    "    for f in r1.split(';'):\n",
    "        r2 = ''\n",
    "        if 'R1.fastq.gz' in f:\n",
    "            r2_tmp = f.replace('R1.fastq.gz', 'R2.fastq.gz')\n",
    "            if r2_tmp in list(d['Filename']):\n",
    "                r2 = r2_tmp\n",
    "        r2s.append(r2)\n",
    "    return ';'.join(r2s)\n",
    "    \n",
    "assay_info = pd.concat(mat)\n",
    "assay_info['R2_files'] = assay_info['R1_files'].apply(get_r2)\n",
    "assay_info[['Assay', 'Library', 'R1_files', 'R2_files']].to_csv('Files_by_assay.csv', index=False)"
   ]
  },
  {
   "cell_type": "code",
   "execution_count": null,
   "metadata": {},
   "outputs": [],
   "source": []
  }
 ],
 "metadata": {
  "kernelspec": {
   "display_name": "milo_py37",
   "language": "python",
   "name": "milo_py37"
  },
  "language_info": {
   "codemirror_mode": {
    "name": "ipython",
    "version": 3
   },
   "file_extension": ".py",
   "mimetype": "text/x-python",
   "name": "python",
   "nbconvert_exporter": "python",
   "pygments_lexer": "ipython3",
   "version": "3.7.6"
  }
 },
 "nbformat": 4,
 "nbformat_minor": 4
}
