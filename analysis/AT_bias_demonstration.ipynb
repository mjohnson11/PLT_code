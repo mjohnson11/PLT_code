{
 "cells": [
  {
   "cell_type": "markdown",
   "metadata": {},
   "source": [
    "# Demonstrating the effect of AT bias on our BFA data"
   ]
  },
  {
   "cell_type": "code",
   "execution_count": 2,
   "metadata": {},
   "outputs": [
    {
     "name": "stderr",
     "output_type": "stream",
     "text": [
      "/opt/conda/lib/python3.7/site-packages/ipykernel_launcher.py:39: RuntimeWarning: divide by zero encountered in log10\n"
     ]
    }
   ],
   "source": [
    "import numpy as np\n",
    "import pandas as pd\n",
    "from matplotlib import pyplot as pl\n",
    "import seaborn as sns\n",
    "import math\n",
    "\n",
    "def reverse_complement(seq):\n",
    "    \"\"\"reverse complements a dna sequence (does not convert any non-atcg/ATCG characters)\"\"\"\n",
    "    watson_crick = {'A': 'T', 'T': 'A', 'G': 'C', 'C': 'G', 'a': 't', 't': 'a', 'g': 'c', 'c': 'g'}\n",
    "    return ''.join([watson_crick.setdefault(c, c) for c in seq[::-1]])\n",
    "\n",
    "# including the sequence between the barcodes to get the max AT run of the whole region (which is flanked by CG seqs)\n",
    "middle_seq = 'ATAACTTCGTATAATGTATGCTATACGAAGTTAT'\n",
    "\n",
    "def gc(s):\n",
    "    return len([i for i in s if i in ['G', 'C']])\n",
    "    \n",
    "def sliding_window_min(row, win_size):\n",
    "    s = row['Diverse_BC'] + middle_seq + reverse_complement(row['Environment_BC'])\n",
    "    return min([gc(s[i:i+win_size]) for i in range(len(s)-win_size+1)])\n",
    "\n",
    "def plot_all_bias_terms(tds, outpng):\n",
    "    f, subps = pl.subplots(8, len(all_envs), figsize=(7.5,10), sharex=True, sharey=True, dpi=200)\n",
    "    rc = 0\n",
    "    b = 0\n",
    "    for td in tds:\n",
    "        rep_dict = {e: sorted(set([i.split('-')[2] for i in td.keys() if e in i and 'Time' in i])) for e in all_envs}\n",
    "        for rep in ['R1', 'R2', 'R3']:\n",
    "            if len([i for i in all_envs if rep in rep_dict[i]]) > 0:\n",
    "                for e in range(len(all_envs)):\n",
    "                    env = all_envs[e]\n",
    "                    sub = subps[rc][e]\n",
    "                    tps = sorted([i for i in td.keys() if 'Time' in i and env + '-' + rep in i],\n",
    "                                         key=lambda x: int(x[x.index('Time')+4:]))\n",
    "                    times = [int(x[x.index('Time')+4:]) for x in tps]\n",
    "                    gc_bias_effects = [[] for i in range(1, 7)]\n",
    "                    for tp in tps:\n",
    "                        for gc in range(6):\n",
    "                            gc_bias_effects[gc].append(np.log10(np.mean(td.loc[td['min.lox.GC.w26']==gc+1][tp])/sum(td[tp])))\n",
    "                    for gc in range(6):\n",
    "                        sub.plot(times, gc_bias_effects[gc], label=str(gc+1), linewidth=1)\n",
    "                    if rc == 0:\n",
    "                        sub.set_title(env, y=1.1, fontsize=6.5)\n",
    "                    if e == 9:\n",
    "                        sub.set_ylabel(bfas[b] + ' ' + rep, fontsize=6.5, rotation='horizontal', ha='left', labelpad=20)\n",
    "                        sub.yaxis.set_label_position(\"right\")\n",
    "                    if e == 0 and rc == 4:\n",
    "                        sub.set_ylabel('Log10(freq)', fontsize=9, rotation='horizontal', labelpad=35)\n",
    "                    if e == 4 and rc == 7:\n",
    "                        sub.set_xlabel('Generation', fontsize=9, x=1)\n",
    "                        \n",
    "                    sub.set_xlim([8,40])\n",
    "                    sub.tick_params(axis='both', which='major', labelsize=5.5)\n",
    "                rc += 1\n",
    "        b += 1\n",
    "        \n",
    "    sns.despine()\n",
    "    leg = subps[0][6].legend(fontsize=5.5, ncol=6, bbox_to_anchor=(1,1.8), title='Min GC bp in 26 bp sliding window in barcode region')\n",
    "    leg.get_title().set_fontsize('5.5')\n",
    "    f.savefig(outpng)\n",
    "    \n",
    "\n",
    "bfas = ['hBFA1', 'hBFA2', 'dBFA2']\n",
    "dats = dict()\n",
    "putative_neuts = dict()\n",
    "for b in bfas:\n",
    "    dats[b] = pd.read_csv('../../output/' + b + '/' + b + '_bc_counts_final_w_envs.csv')\n",
    "putative_neuts['hBFA1'] = list(dats['hBFA1'].loc[dats['hBFA1']['Subpool_environment'] == 'YPD_alpha']['Full_BC'])\n",
    "putative_neuts['hBFA2'] = list(dats['hBFA2'].loc[dats['hBFA2']['Subpool_environment'] == 'CLM_2N']['Full_BC'])\n",
    "putative_neuts['dBFA2'] = list(dats['dBFA2'].loc[dats['dBFA2']['Subpool_environment'] == 'YPDAnc_2N'].loc[dats['dBFA2']['Subpool_replicate'] == '-R1_1']['Full_BC'])\n",
    "plot_rows = {'hBFA1': 2, 'hBFA2': 3, 'dBFA2': 3}\n",
    "all_envs = ['YPD', 'SC', '37C', 'pH3_8', 'pH7_3', 'FLC4', 'GlyEtOH', 'CLM', '21C', '02M_NaCl']\n",
    "for b in bfas:\n",
    "    td = dats[b]\n",
    "    # Getting the minimum GC content in a 26-bp sliding window\n",
    "    td['min.lox.GC.w26'] = td.apply(lambda row: sliding_window_min(row, 26), axis=1)\n",
    "\n",
    "plot_all_bias_terms([dats[b].loc[dats[b]['Full_BC'].isin(putative_neuts[b])] for b in bfas], '../../Figures/supp_figs/all_at_bias.png')"
   ]
  },
  {
   "cell_type": "code",
   "execution_count": null,
   "metadata": {},
   "outputs": [],
   "source": []
  }
 ],
 "metadata": {
  "kernelspec": {
   "display_name": "Python 3",
   "language": "python",
   "name": "python3"
  },
  "language_info": {
   "codemirror_mode": {
    "name": "ipython",
    "version": 3
   },
   "file_extension": ".py",
   "mimetype": "text/x-python",
   "name": "python",
   "nbconvert_exporter": "python",
   "pygments_lexer": "ipython3",
   "version": "3.7.3"
  }
 },
 "nbformat": 4,
 "nbformat_minor": 4
}
